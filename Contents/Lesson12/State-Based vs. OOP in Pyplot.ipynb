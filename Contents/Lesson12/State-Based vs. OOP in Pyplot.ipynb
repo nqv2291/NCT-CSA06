{
 "cells": [
  {
   "cell_type": "markdown",
   "metadata": {},
   "source": [
    "# Demonstrating \"state-based\" vs. \"object-oriented\" programming in Pyplot"
   ]
  },
  {
   "cell_type": "markdown",
   "metadata": {},
   "source": [
    "__by [Kaleb Nyquist](https://gist.github.com/KalebNyquist)__\n",
    "\n",
    "This Jupyter Notebook provides the code used to generate the figures in the Medium post [\"plt.subplot() or plt.subplots()? Understanding state-based vs. object-oriented programming in Pyplot\"](https://towardsdatascience.com/plt-subplot-or-plt-subplots-understanding-state-based-vs-object-oriented-programming-in-pyplot-4ba0c7283f5d) published in _Towards Data Science_."
   ]
  },
  {
   "cell_type": "markdown",
   "metadata": {},
   "source": [
    "### Import Relevant Packages"
   ]
  },
  {
   "cell_type": "code",
   "execution_count": null,
   "metadata": {},
   "outputs": [],
   "source": [
    "import matplotlib.pyplot as plt\n",
    "import numpy as np\n",
    "import pandas as pd"
   ]
  },
  {
   "cell_type": "markdown",
   "metadata": {},
   "source": [
    "### Create Random Data"
   ]
  },
  {
   "cell_type": "code",
   "execution_count": null,
   "metadata": {
    "scrolled": false
   },
   "outputs": [],
   "source": [
    "# X-Axis\n",
    "data_x = np.linspace(0, 1000, 25)\n",
    "\n",
    "# Y-Axis\n",
    "np.random.seed(502)\n",
    "data_t = np.random.rand(25)\n",
    "increment = 1\n",
    "data_y = []\n",
    "for each in data_t:\n",
    "    data_y.append(each*increment)\n",
    "    increment += .065 * increment"
   ]
  },
  {
   "cell_type": "code",
   "execution_count": null,
   "metadata": {},
   "outputs": [],
   "source": [
    "df = pd.DataFrame({'x': data_x, 'y': data_y})\n",
    "df"
   ]
  },
  {
   "cell_type": "markdown",
   "metadata": {},
   "source": [
    "### State-Based Approach — _plt.subplot()_"
   ]
  },
  {
   "cell_type": "code",
   "execution_count": null,
   "metadata": {},
   "outputs": [],
   "source": [
    "plt.figure(facecolor='lightgrey')\n",
    "plt.subplot(2,2,1)\n",
    "plt.plot(data_x, data_y, 'r-')\n",
    "plt.subplot(2,2,2)\n",
    "plt.plot(data_x, data_y, 'b-')\n",
    "plt.subplot(2,2,4)\n",
    "plt.plot(data_x, data_y, 'g-')\n",
    "plt.suptitle(\"Your Title Here\")\n",
    "plt.xlabel(\"X Axis\")\n",
    "plt.ylabel(\"Y Axis\")"
   ]
  },
  {
   "cell_type": "markdown",
   "metadata": {},
   "source": [
    "### Object-Oriented Approach — _plt.subplots()_"
   ]
  },
  {
   "cell_type": "code",
   "execution_count": null,
   "metadata": {},
   "outputs": [],
   "source": [
    "fig, ax = plt.subplots(2,2)\n",
    "fig.set_facecolor('lightgrey')\n",
    "ax[0,0].plot(data_x, data_y, 'r-')\n",
    "ax[0,1].plot(data_x, data_y, 'b-')\n",
    "fig.delaxes(ax[1,0])\n",
    "fig.suptitle(\"Your Title Here\")\n",
    "# fig.add_subplot(2,2,3)\n",
    "# ax[1,1].set_xlabel(\"X Axis\")\n",
    "# ax[1,1].set_ylabel(\"Y Axis\")\n",
    "fig.add_axes(ax[1,1])"
   ]
  }
 ],
 "metadata": {
  "kernelspec": {
   "display_name": "Python 3.9.13 ('base')",
   "language": "python",
   "name": "python3"
  },
  "language_info": {
   "codemirror_mode": {
    "name": "ipython",
    "version": 3
   },
   "file_extension": ".py",
   "mimetype": "text/x-python",
   "name": "python",
   "nbconvert_exporter": "python",
   "pygments_lexer": "ipython3",
   "version": "3.9.13"
  },
  "vscode": {
   "interpreter": {
    "hash": "245cc435fe8701059561108fec3fd7c748240250fa2e2b5e714b4f6827c3f344"
   }
  }
 },
 "nbformat": 4,
 "nbformat_minor": 2
}
