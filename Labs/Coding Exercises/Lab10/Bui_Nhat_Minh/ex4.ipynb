{
 "cells": [
  {
   "cell_type": "code",
   "execution_count": 3,
   "metadata": {},
   "outputs": [
    {
     "name": "stdout",
     "output_type": "stream",
     "text": [
      "                     Name  Population\n",
      "49  Thành phố Hồ Chí Minh      9038.6\n",
      "\n",
      "           Name  Population\n",
      "3  Tỉnh Bắc Kạn       314.4\n"
     ]
    }
   ],
   "source": [
    "import pandas as pd\n",
    "df = pd.read_excel('provinces.xls')\n",
    "# The city (province) with the highest population count\n",
    "result1 = df.loc[df['Population'] == df['Population'].max() ,['Name', 'Population']]\n",
    "print(result1)\n",
    "print()\n",
    "# The city (province) with the lowest population count\n",
    "result2 = df.loc[df['Population'] ==\n",
    "                 df['Population'].min(), ['Name', 'Population']]\n",
    "print(result2)\n"
   ]
  }
 ],
 "metadata": {
  "kernelspec": {
   "display_name": "Python 3.10.5 64-bit",
   "language": "python",
   "name": "python3"
  },
  "language_info": {
   "codemirror_mode": {
    "name": "ipython",
    "version": 3
   },
   "file_extension": ".py",
   "mimetype": "text/x-python",
   "name": "python",
   "nbconvert_exporter": "python",
   "pygments_lexer": "ipython3",
   "version": "3.10.5"
  },
  "orig_nbformat": 4,
  "vscode": {
   "interpreter": {
    "hash": "3bd13bc16400e16874b7ce28af58a129343287e94248a182c1f06fbb6b76ef8e"
   }
  }
 },
 "nbformat": 4,
 "nbformat_minor": 2
}
