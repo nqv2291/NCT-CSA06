{
 "cells": [
  {
   "cell_type": "code",
   "execution_count": 16,
   "metadata": {},
   "outputs": [
    {
     "name": "stdout",
     "output_type": "stream",
     "text": [
      "                     Name              Division                   Region  \\\n",
      "0        Thành phố Hà Nội  Thành phố Trung ương      Đồng bằng sông Hồng   \n",
      "19    Thành phố Hải Phòng  Thành phố Trung ương      Đồng bằng sông Hồng   \n",
      "31      Thành phố Đà Nẵng  Thành phố Trung ương             Nam Trung Bộ   \n",
      "49  Thành phố Hồ Chí Minh  Thành phố Trung ương              Đông Nam Bộ   \n",
      "58      Thành phố Cần Thơ  Thành phố Trung ương  Đồng bằng sông Cửu Long   \n",
      "\n",
      "      Area  Population  \n",
      "0   3358.6      8093.9  \n",
      "19  1561.8      2033.3  \n",
      "31  1284.9      1141.1  \n",
      "49  2061.4      9038.6  \n",
      "58  1439.0      1236.0  \n"
     ]
    }
   ],
   "source": [
    "import pandas as pd\n",
    "df = pd.read_excel('provinces.xls')\n",
    "cities_dataframe = df[pd.Series([True if 'Thành phố' in row['Name']\n",
    "                                 else False for i, row in df.iterrows()])]\n",
    "print(cities_dataframe)\n"
   ]
  }
 ],
 "metadata": {
  "kernelspec": {
   "display_name": "Python 3.10.5 64-bit",
   "language": "python",
   "name": "python3"
  },
  "language_info": {
   "codemirror_mode": {
    "name": "ipython",
    "version": 3
   },
   "file_extension": ".py",
   "mimetype": "text/x-python",
   "name": "python",
   "nbconvert_exporter": "python",
   "pygments_lexer": "ipython3",
   "version": "3.10.5"
  },
  "orig_nbformat": 4,
  "vscode": {
   "interpreter": {
    "hash": "3bd13bc16400e16874b7ce28af58a129343287e94248a182c1f06fbb6b76ef8e"
   }
  }
 },
 "nbformat": 4,
 "nbformat_minor": 2
}
