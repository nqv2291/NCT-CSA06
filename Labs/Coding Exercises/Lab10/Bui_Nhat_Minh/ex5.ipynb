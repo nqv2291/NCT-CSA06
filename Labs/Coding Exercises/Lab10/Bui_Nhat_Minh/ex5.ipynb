{
 "cells": [
  {
   "cell_type": "code",
   "execution_count": 41,
   "metadata": {},
   "outputs": [
    {
     "name": "stdout",
     "output_type": "stream",
     "text": [
      "                    Region  Total Area (km2)  Proportion (%)\n",
      "0             Bắc Trung Bộ           51110.8       15.443392\n",
      "1             Nam Trung Bộ           44542.0       13.458595\n",
      "2               Tây Bắc Bộ           50575.7       15.281708\n",
      "3               Tây Nguyên           54508.3       16.469964\n",
      "4              Đông Bắc Bộ           50802.8       15.350328\n",
      "5              Đông Nam Bộ           23518.7        7.106296\n",
      "6  Đồng bằng sông Cửu Long           40816.4       12.332886\n",
      "7      Đồng bằng sông Hồng           15081.1        4.556832\n"
     ]
    }
   ],
   "source": [
    "import pandas as pd\n",
    "df = pd.read_excel('provinces.xls')\n",
    "# Calculate the proportion\n",
    "proportion = [row['Area'] / (df['Area'].sum()) * 100 for i, row in df.iterrows()]\n",
    "# Create a new dataframe\n",
    "combine_df = pd.concat([df['Region'], df['Area'], pd.Series(\n",
    "    proportion)], axis=1).groupby(['Region']).sum().reset_index()\n",
    "combine_df.columns = ['Region', 'Total Area (km2)', 'Proportion (%)']\n",
    "print(combine_df)\n"
   ]
  }
 ],
 "metadata": {
  "kernelspec": {
   "display_name": "Python 3.10.5 64-bit",
   "language": "python",
   "name": "python3"
  },
  "language_info": {
   "codemirror_mode": {
    "name": "ipython",
    "version": 3
   },
   "file_extension": ".py",
   "mimetype": "text/x-python",
   "name": "python",
   "nbconvert_exporter": "python",
   "pygments_lexer": "ipython3",
   "version": "3.10.5"
  },
  "orig_nbformat": 4,
  "vscode": {
   "interpreter": {
    "hash": "3bd13bc16400e16874b7ce28af58a129343287e94248a182c1f06fbb6b76ef8e"
   }
  }
 },
 "nbformat": 4,
 "nbformat_minor": 2
}
