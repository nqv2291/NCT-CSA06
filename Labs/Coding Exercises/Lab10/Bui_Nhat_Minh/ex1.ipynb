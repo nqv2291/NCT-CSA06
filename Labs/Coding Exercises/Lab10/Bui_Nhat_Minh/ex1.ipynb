{
 "cells": [
  {
   "cell_type": "code",
   "execution_count": 1,
   "metadata": {},
   "outputs": [
    {
     "name": "stdout",
     "output_type": "stream",
     "text": [
      "List of provinces and cities: Thành phố Hà Nội, Tỉnh Hà Giang, Tỉnh Cao Bằng, Tỉnh Bắc Kạn, Tỉnh Tuyên Quang, Tỉnh Lào Cai, Tỉnh Điện Biên, Tỉnh Lai Châu, Tỉnh Sơn La, Tỉnh Yên Bái, Tỉnh Hoà Bình, Tỉnh Thái Nguyên, Tỉnh Lạng Sơn, Tỉnh Quảng Ninh, Tỉnh Bắc Giang, Tỉnh Phú Thọ, Tỉnh Vĩnh Phúc, Tỉnh Bắc Ninh, Tỉnh Hải Dương, Thành phố Hải Phòng, Tỉnh Hưng Yên, Tỉnh Thái Bình, Tỉnh Hà Nam, Tỉnh Nam Định, Tỉnh Ninh Bình, Tỉnh Thanh Hóa, Tỉnh Nghệ An, Tỉnh Hà Tĩnh, Tỉnh Quảng Bình, Tỉnh Quảng Trị, Tỉnh Thừa Thiên Huế, Thành phố Đà Nẵng, Tỉnh Quảng Nam, Tỉnh Quảng Ngãi, Tỉnh Bình Định, Tỉnh Phú Yên, Tỉnh Khánh Hòa, Tỉnh Ninh Thuận, Tỉnh Bình Thuận, Tỉnh Kon Tum, Tỉnh Gia Lai, Tỉnh Đắk Lắk, Tỉnh Đắk Nông, Tỉnh Lâm Đồng, Tỉnh Bình Phước, Tỉnh Tây Ninh, Tỉnh Bình Dương, Tỉnh Đồng Nai, Tỉnh Bà Rịa - Vũng Tàu, Thành phố Hồ Chí Minh, Tỉnh Long An, Tỉnh Tiền Giang, Tỉnh Bến Tre, Tỉnh Trà Vinh, Tỉnh Vĩnh Long, Tỉnh Đồng Tháp, Tỉnh An Giang, Tỉnh Kiên Giang, Thành phố Cần Thơ, Tỉnh Hậu Giang, Tỉnh Sóc Trăng, Tỉnh Bạc Liêu, Tỉnh Cà Mau, "
     ]
    }
   ],
   "source": [
    "import pandas as pd\n",
    "df = pd.read_excel('provinces.xls')\n",
    "print('List of provinces and cities:', end=' ')\n",
    "for i, row in df.iterrows():\n",
    "    print(row['Name'], end=', ')\n"
   ]
  }
 ],
 "metadata": {
  "kernelspec": {
   "display_name": "Python 3.10.5 64-bit",
   "language": "python",
   "name": "python3"
  },
  "language_info": {
   "codemirror_mode": {
    "name": "ipython",
    "version": 3
   },
   "file_extension": ".py",
   "mimetype": "text/x-python",
   "name": "python",
   "nbconvert_exporter": "python",
   "pygments_lexer": "ipython3",
   "version": "3.10.5"
  },
  "orig_nbformat": 4,
  "vscode": {
   "interpreter": {
    "hash": "3bd13bc16400e16874b7ce28af58a129343287e94248a182c1f06fbb6b76ef8e"
   }
  }
 },
 "nbformat": 4,
 "nbformat_minor": 2
}
