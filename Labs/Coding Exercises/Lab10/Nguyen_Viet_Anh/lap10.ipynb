{
 "cells": [
  {
   "cell_type": "markdown",
   "metadata": {},
   "source": [
    "# <font color='red'>LAP 10 </font> "
   ]
  },
  {
   "cell_type": "markdown",
   "metadata": {},
   "source": [
    "## <font color='blue'>Import tool</font> "
   ]
  },
  {
   "cell_type": "code",
   "execution_count": 11,
   "metadata": {},
   "outputs": [
    {
     "data": {
      "text/html": [
       "<div>\n",
       "<style scoped>\n",
       "    .dataframe tbody tr th:only-of-type {\n",
       "        vertical-align: middle;\n",
       "    }\n",
       "\n",
       "    .dataframe tbody tr th {\n",
       "        vertical-align: top;\n",
       "    }\n",
       "\n",
       "    .dataframe thead th {\n",
       "        text-align: right;\n",
       "    }\n",
       "</style>\n",
       "<table border=\"1\" class=\"dataframe\">\n",
       "  <thead>\n",
       "    <tr style=\"text-align: right;\">\n",
       "      <th></th>\n",
       "      <th>Name</th>\n",
       "      <th>Division</th>\n",
       "      <th>Region</th>\n",
       "      <th>Area</th>\n",
       "      <th>Population</th>\n",
       "    </tr>\n",
       "  </thead>\n",
       "  <tbody>\n",
       "    <tr>\n",
       "      <th>0</th>\n",
       "      <td>Thành phố Hà Nội</td>\n",
       "      <td>Thành phố Trung ương</td>\n",
       "      <td>Đồng bằng sông Hồng</td>\n",
       "      <td>3358.6</td>\n",
       "      <td>8093.9</td>\n",
       "    </tr>\n",
       "    <tr>\n",
       "      <th>1</th>\n",
       "      <td>Tỉnh Hà Giang</td>\n",
       "      <td>Tỉnh</td>\n",
       "      <td>Đông Bắc Bộ</td>\n",
       "      <td>7929.5</td>\n",
       "      <td>858.1</td>\n",
       "    </tr>\n",
       "    <tr>\n",
       "      <th>2</th>\n",
       "      <td>Tỉnh Cao Bằng</td>\n",
       "      <td>Tỉnh</td>\n",
       "      <td>Đông Bắc Bộ</td>\n",
       "      <td>6700.3</td>\n",
       "      <td>530.9</td>\n",
       "    </tr>\n",
       "    <tr>\n",
       "      <th>3</th>\n",
       "      <td>Tỉnh Bắc Kạn</td>\n",
       "      <td>Tỉnh</td>\n",
       "      <td>Đông Bắc Bộ</td>\n",
       "      <td>4860.0</td>\n",
       "      <td>314.4</td>\n",
       "    </tr>\n",
       "    <tr>\n",
       "      <th>4</th>\n",
       "      <td>Tỉnh Tuyên Quang</td>\n",
       "      <td>Tỉnh</td>\n",
       "      <td>Đông Bắc Bộ</td>\n",
       "      <td>5867.9</td>\n",
       "      <td>786.3</td>\n",
       "    </tr>\n",
       "    <tr>\n",
       "      <th>...</th>\n",
       "      <td>...</td>\n",
       "      <td>...</td>\n",
       "      <td>...</td>\n",
       "      <td>...</td>\n",
       "      <td>...</td>\n",
       "    </tr>\n",
       "    <tr>\n",
       "      <th>58</th>\n",
       "      <td>Thành phố Cần Thơ</td>\n",
       "      <td>Thành phố Trung ương</td>\n",
       "      <td>Đồng bằng sông Cửu Long</td>\n",
       "      <td>1439.0</td>\n",
       "      <td>1236.0</td>\n",
       "    </tr>\n",
       "    <tr>\n",
       "      <th>59</th>\n",
       "      <td>Tỉnh Hậu Giang</td>\n",
       "      <td>Tỉnh</td>\n",
       "      <td>Đồng bằng sông Cửu Long</td>\n",
       "      <td>1621.7</td>\n",
       "      <td>732.2</td>\n",
       "    </tr>\n",
       "    <tr>\n",
       "      <th>60</th>\n",
       "      <td>Tỉnh Sóc Trăng</td>\n",
       "      <td>Tỉnh</td>\n",
       "      <td>Đồng bằng sông Cửu Long</td>\n",
       "      <td>3311.9</td>\n",
       "      <td>1199.5</td>\n",
       "    </tr>\n",
       "    <tr>\n",
       "      <th>61</th>\n",
       "      <td>Tỉnh Bạc Liêu</td>\n",
       "      <td>Tỉnh</td>\n",
       "      <td>Đồng bằng sông Cửu Long</td>\n",
       "      <td>2669.0</td>\n",
       "      <td>908.2</td>\n",
       "    </tr>\n",
       "    <tr>\n",
       "      <th>62</th>\n",
       "      <td>Tỉnh Cà Mau</td>\n",
       "      <td>Tỉnh</td>\n",
       "      <td>Đồng bằng sông Cửu Long</td>\n",
       "      <td>5221.2</td>\n",
       "      <td>1194.3</td>\n",
       "    </tr>\n",
       "  </tbody>\n",
       "</table>\n",
       "<p>63 rows × 5 columns</p>\n",
       "</div>"
      ],
      "text/plain": [
       "                 Name              Division                   Region    Area  \\\n",
       "0    Thành phố Hà Nội  Thành phố Trung ương      Đồng bằng sông Hồng  3358.6   \n",
       "1       Tỉnh Hà Giang                  Tỉnh              Đông Bắc Bộ  7929.5   \n",
       "2       Tỉnh Cao Bằng                  Tỉnh              Đông Bắc Bộ  6700.3   \n",
       "3        Tỉnh Bắc Kạn                  Tỉnh              Đông Bắc Bộ  4860.0   \n",
       "4    Tỉnh Tuyên Quang                  Tỉnh              Đông Bắc Bộ  5867.9   \n",
       "..                ...                   ...                      ...     ...   \n",
       "58  Thành phố Cần Thơ  Thành phố Trung ương  Đồng bằng sông Cửu Long  1439.0   \n",
       "59     Tỉnh Hậu Giang                  Tỉnh  Đồng bằng sông Cửu Long  1621.7   \n",
       "60     Tỉnh Sóc Trăng                  Tỉnh  Đồng bằng sông Cửu Long  3311.9   \n",
       "61      Tỉnh Bạc Liêu                  Tỉnh  Đồng bằng sông Cửu Long  2669.0   \n",
       "62        Tỉnh Cà Mau                  Tỉnh  Đồng bằng sông Cửu Long  5221.2   \n",
       "\n",
       "    Population  \n",
       "0       8093.9  \n",
       "1        858.1  \n",
       "2        530.9  \n",
       "3        314.4  \n",
       "4        786.3  \n",
       "..         ...  \n",
       "58      1236.0  \n",
       "59       732.2  \n",
       "60      1199.5  \n",
       "61       908.2  \n",
       "62      1194.3  \n",
       "\n",
       "[63 rows x 5 columns]"
      ]
     },
     "execution_count": 11,
     "metadata": {},
     "output_type": "execute_result"
    }
   ],
   "source": [
    "import pandas as pd\n",
    "\n",
    "df = pd.read_excel('province.xlsx')\n",
    "\n",
    "df\n"
   ]
  },
  {
   "cell_type": "markdown",
   "metadata": {},
   "source": [
    "## Bai 1"
   ]
  },
  {
   "cell_type": "code",
   "execution_count": 23,
   "metadata": {},
   "outputs": [
    {
     "name": "stdout",
     "output_type": "stream",
     "text": [
      "List of provinces and cities: Thành phố Hà Nội,Tỉnh Hà Giang,Tỉnh Cao Bằng,Tỉnh Bắc Kạn,Tỉnh Tuyên Quang,Tỉnh Lào Cai,Tỉnh Điện Biên,Tỉnh Lai Châu,Tỉnh Sơn La,Tỉnh Yên Bái,Tỉnh Hoà Bình,Tỉnh Thái Nguyên,Tỉnh Lạng Sơn,Tỉnh Quảng Ninh,Tỉnh Bắc Giang,Tỉnh Phú Thọ,Tỉnh Vĩnh Phúc,Tỉnh Bắc Ninh,Tỉnh Hải Dương,Thành phố Hải Phòng,Tỉnh Hưng Yên,Tỉnh Thái Bình,Tỉnh Hà Nam,Tỉnh Nam Định,Tỉnh Ninh Bình,Tỉnh Thanh Hóa,Tỉnh Nghệ An,Tỉnh Hà Tĩnh,Tỉnh Quảng Bình,Tỉnh Quảng Trị,Tỉnh Thừa Thiên Huế,Thành phố Đà Nẵng,Tỉnh Quảng Nam,Tỉnh Quảng Ngãi,Tỉnh Bình Định,Tỉnh Phú Yên,Tỉnh Khánh Hòa,Tỉnh Ninh Thuận,Tỉnh Bình Thuận,Tỉnh Kon Tum,Tỉnh Gia Lai,Tỉnh Đắk Lắk,Tỉnh Đắk Nông,Tỉnh Lâm Đồng,Tỉnh Bình Phước,Tỉnh Tây Ninh,Tỉnh Bình Dương,Tỉnh Đồng Nai,Tỉnh Bà Rịa - Vũng Tàu,Thành phố Hồ Chí Minh,Tỉnh Long An,Tỉnh Tiền Giang,Tỉnh Bến Tre,Tỉnh Trà Vinh,Tỉnh Vĩnh Long,Tỉnh Đồng Tháp,Tỉnh An Giang,Tỉnh Kiên Giang,Thành phố Cần Thơ,Tỉnh Hậu Giang,Tỉnh Sóc Trăng,Tỉnh Bạc Liêu,Tỉnh Cà Mau,"
     ]
    }
   ],
   "source": [
    "print('List of provinces and cities:', end=' ')\n",
    "\n",
    "for i in df['Name']:\n",
    "    print(i, end=\",\")\n",
    "\n"
   ]
  },
  {
   "cell_type": "markdown",
   "metadata": {},
   "source": [
    "## Bai 2"
   ]
  },
  {
   "cell_type": "code",
   "execution_count": 24,
   "metadata": {},
   "outputs": [
    {
     "data": {
      "text/html": [
       "<div>\n",
       "<style scoped>\n",
       "    .dataframe tbody tr th:only-of-type {\n",
       "        vertical-align: middle;\n",
       "    }\n",
       "\n",
       "    .dataframe tbody tr th {\n",
       "        vertical-align: top;\n",
       "    }\n",
       "\n",
       "    .dataframe thead th {\n",
       "        text-align: right;\n",
       "    }\n",
       "</style>\n",
       "<table border=\"1\" class=\"dataframe\">\n",
       "  <thead>\n",
       "    <tr style=\"text-align: right;\">\n",
       "      <th></th>\n",
       "      <th>Name</th>\n",
       "      <th>Region</th>\n",
       "    </tr>\n",
       "  </thead>\n",
       "  <tbody>\n",
       "    <tr>\n",
       "      <th>0</th>\n",
       "      <td>Thành phố Hà Nội</td>\n",
       "      <td>Đồng bằng sông Hồng</td>\n",
       "    </tr>\n",
       "    <tr>\n",
       "      <th>1</th>\n",
       "      <td>Tỉnh Hà Giang</td>\n",
       "      <td>Đông Bắc Bộ</td>\n",
       "    </tr>\n",
       "    <tr>\n",
       "      <th>2</th>\n",
       "      <td>Tỉnh Cao Bằng</td>\n",
       "      <td>Đông Bắc Bộ</td>\n",
       "    </tr>\n",
       "    <tr>\n",
       "      <th>3</th>\n",
       "      <td>Tỉnh Bắc Kạn</td>\n",
       "      <td>Đông Bắc Bộ</td>\n",
       "    </tr>\n",
       "    <tr>\n",
       "      <th>4</th>\n",
       "      <td>Tỉnh Tuyên Quang</td>\n",
       "      <td>Đông Bắc Bộ</td>\n",
       "    </tr>\n",
       "    <tr>\n",
       "      <th>...</th>\n",
       "      <td>...</td>\n",
       "      <td>...</td>\n",
       "    </tr>\n",
       "    <tr>\n",
       "      <th>58</th>\n",
       "      <td>Thành phố Cần Thơ</td>\n",
       "      <td>Đồng bằng sông Cửu Long</td>\n",
       "    </tr>\n",
       "    <tr>\n",
       "      <th>59</th>\n",
       "      <td>Tỉnh Hậu Giang</td>\n",
       "      <td>Đồng bằng sông Cửu Long</td>\n",
       "    </tr>\n",
       "    <tr>\n",
       "      <th>60</th>\n",
       "      <td>Tỉnh Sóc Trăng</td>\n",
       "      <td>Đồng bằng sông Cửu Long</td>\n",
       "    </tr>\n",
       "    <tr>\n",
       "      <th>61</th>\n",
       "      <td>Tỉnh Bạc Liêu</td>\n",
       "      <td>Đồng bằng sông Cửu Long</td>\n",
       "    </tr>\n",
       "    <tr>\n",
       "      <th>62</th>\n",
       "      <td>Tỉnh Cà Mau</td>\n",
       "      <td>Đồng bằng sông Cửu Long</td>\n",
       "    </tr>\n",
       "  </tbody>\n",
       "</table>\n",
       "<p>63 rows × 2 columns</p>\n",
       "</div>"
      ],
      "text/plain": [
       "                 Name                   Region\n",
       "0    Thành phố Hà Nội      Đồng bằng sông Hồng\n",
       "1       Tỉnh Hà Giang              Đông Bắc Bộ\n",
       "2       Tỉnh Cao Bằng              Đông Bắc Bộ\n",
       "3        Tỉnh Bắc Kạn              Đông Bắc Bộ\n",
       "4    Tỉnh Tuyên Quang              Đông Bắc Bộ\n",
       "..                ...                      ...\n",
       "58  Thành phố Cần Thơ  Đồng bằng sông Cửu Long\n",
       "59     Tỉnh Hậu Giang  Đồng bằng sông Cửu Long\n",
       "60     Tỉnh Sóc Trăng  Đồng bằng sông Cửu Long\n",
       "61      Tỉnh Bạc Liêu  Đồng bằng sông Cửu Long\n",
       "62        Tỉnh Cà Mau  Đồng bằng sông Cửu Long\n",
       "\n",
       "[63 rows x 2 columns]"
      ]
     },
     "execution_count": 24,
     "metadata": {},
     "output_type": "execute_result"
    }
   ],
   "source": [
    "df.loc[:,['Name','Region']]"
   ]
  },
  {
   "cell_type": "markdown",
   "metadata": {},
   "source": [
    "## Bai 3"
   ]
  },
  {
   "cell_type": "code",
   "execution_count": 32,
   "metadata": {},
   "outputs": [
    {
     "name": "stdout",
     "output_type": "stream",
     "text": [
      "Số vùng địa lý:  8\n"
     ]
    },
    {
     "data": {
      "text/plain": [
       "Region\n",
       "Đồng bằng sông Cửu Long    13\n",
       "Đồng bằng sông Hồng        10\n",
       "Đông Bắc Bộ                 9\n",
       "Nam Trung Bộ                8\n",
       "Bắc Trung Bộ                6\n",
       "Tây Bắc Bộ                  6\n",
       "Đông Nam Bộ                 6\n",
       "Tây Nguyên                  5\n",
       "dtype: int64"
      ]
     },
     "execution_count": 32,
     "metadata": {},
     "output_type": "execute_result"
    }
   ],
   "source": [
    "print('Số vùng địa lý: ',len(pd.unique(df['Region'])))\n",
    "\n",
    "df.value_counts('Region')"
   ]
  },
  {
   "cell_type": "markdown",
   "metadata": {},
   "source": [
    "## Bai 4\n",
    "\n"
   ]
  },
  {
   "cell_type": "code",
   "execution_count": 69,
   "metadata": {},
   "outputs": [
    {
     "data": {
      "text/html": [
       "<div>\n",
       "<style scoped>\n",
       "    .dataframe tbody tr th:only-of-type {\n",
       "        vertical-align: middle;\n",
       "    }\n",
       "\n",
       "    .dataframe tbody tr th {\n",
       "        vertical-align: top;\n",
       "    }\n",
       "\n",
       "    .dataframe thead th {\n",
       "        text-align: right;\n",
       "    }\n",
       "</style>\n",
       "<table border=\"1\" class=\"dataframe\">\n",
       "  <thead>\n",
       "    <tr style=\"text-align: right;\">\n",
       "      <th></th>\n",
       "      <th>Name</th>\n",
       "      <th>Division</th>\n",
       "      <th>Region</th>\n",
       "      <th>Area</th>\n",
       "      <th>Population</th>\n",
       "    </tr>\n",
       "  </thead>\n",
       "  <tbody>\n",
       "    <tr>\n",
       "      <th>3</th>\n",
       "      <td>Tỉnh Bắc Kạn</td>\n",
       "      <td>Tỉnh</td>\n",
       "      <td>Đông Bắc Bộ</td>\n",
       "      <td>4860.0</td>\n",
       "      <td>314.4</td>\n",
       "    </tr>\n",
       "    <tr>\n",
       "      <th>49</th>\n",
       "      <td>Thành phố Hồ Chí Minh</td>\n",
       "      <td>Thành phố Trung ương</td>\n",
       "      <td>Đông Nam Bộ</td>\n",
       "      <td>2061.4</td>\n",
       "      <td>9038.6</td>\n",
       "    </tr>\n",
       "  </tbody>\n",
       "</table>\n",
       "</div>"
      ],
      "text/plain": [
       "                     Name              Division       Region    Area  \\\n",
       "3            Tỉnh Bắc Kạn                  Tỉnh  Đông Bắc Bộ  4860.0   \n",
       "49  Thành phố Hồ Chí Minh  Thành phố Trung ương  Đông Nam Bộ  2061.4   \n",
       "\n",
       "    Population  \n",
       "3        314.4  \n",
       "49      9038.6  "
      ]
     },
     "execution_count": 69,
     "metadata": {},
     "output_type": "execute_result"
    }
   ],
   "source": [
    "\n",
    "df2=df.sort_values('Population',ascending= True )\n",
    "df2.iloc[[0,-1]]\n"
   ]
  },
  {
   "cell_type": "markdown",
   "metadata": {},
   "source": [
    "## Bai 5"
   ]
  },
  {
   "cell_type": "code",
   "execution_count": 77,
   "metadata": {},
   "outputs": [
    {
     "data": {
      "text/html": [
       "<div>\n",
       "<style scoped>\n",
       "    .dataframe tbody tr th:only-of-type {\n",
       "        vertical-align: middle;\n",
       "    }\n",
       "\n",
       "    .dataframe tbody tr th {\n",
       "        vertical-align: top;\n",
       "    }\n",
       "\n",
       "    .dataframe thead th {\n",
       "        text-align: right;\n",
       "    }\n",
       "</style>\n",
       "<table border=\"1\" class=\"dataframe\">\n",
       "  <thead>\n",
       "    <tr style=\"text-align: right;\">\n",
       "      <th></th>\n",
       "      <th>Region</th>\n",
       "      <th>Total Area(km2)</th>\n",
       "      <th>Area Proportion(%)</th>\n",
       "    </tr>\n",
       "  </thead>\n",
       "  <tbody>\n",
       "    <tr>\n",
       "      <th>0</th>\n",
       "      <td>Bắc Trung Bộ</td>\n",
       "      <td>51110.8</td>\n",
       "      <td>15.443392</td>\n",
       "    </tr>\n",
       "    <tr>\n",
       "      <th>1</th>\n",
       "      <td>Nam Trung Bộ</td>\n",
       "      <td>44542.0</td>\n",
       "      <td>13.458595</td>\n",
       "    </tr>\n",
       "    <tr>\n",
       "      <th>2</th>\n",
       "      <td>Tây Bắc Bộ</td>\n",
       "      <td>50575.7</td>\n",
       "      <td>15.281708</td>\n",
       "    </tr>\n",
       "    <tr>\n",
       "      <th>3</th>\n",
       "      <td>Tây Nguyên</td>\n",
       "      <td>54508.3</td>\n",
       "      <td>16.469964</td>\n",
       "    </tr>\n",
       "    <tr>\n",
       "      <th>4</th>\n",
       "      <td>Đông Bắc Bộ</td>\n",
       "      <td>50802.8</td>\n",
       "      <td>15.350328</td>\n",
       "    </tr>\n",
       "    <tr>\n",
       "      <th>5</th>\n",
       "      <td>Đông Nam Bộ</td>\n",
       "      <td>23518.7</td>\n",
       "      <td>7.106296</td>\n",
       "    </tr>\n",
       "    <tr>\n",
       "      <th>6</th>\n",
       "      <td>Đồng bằng sông Cửu Long</td>\n",
       "      <td>40816.4</td>\n",
       "      <td>12.332886</td>\n",
       "    </tr>\n",
       "    <tr>\n",
       "      <th>7</th>\n",
       "      <td>Đồng bằng sông Hồng</td>\n",
       "      <td>15081.1</td>\n",
       "      <td>4.556832</td>\n",
       "    </tr>\n",
       "  </tbody>\n",
       "</table>\n",
       "</div>"
      ],
      "text/plain": [
       "                    Region  Total Area(km2)  Area Proportion(%)\n",
       "0             Bắc Trung Bộ          51110.8           15.443392\n",
       "1             Nam Trung Bộ          44542.0           13.458595\n",
       "2               Tây Bắc Bộ          50575.7           15.281708\n",
       "3               Tây Nguyên          54508.3           16.469964\n",
       "4              Đông Bắc Bộ          50802.8           15.350328\n",
       "5              Đông Nam Bộ          23518.7            7.106296\n",
       "6  Đồng bằng sông Cửu Long          40816.4           12.332886\n",
       "7      Đồng bằng sông Hồng          15081.1            4.556832"
      ]
     },
     "execution_count": 77,
     "metadata": {},
     "output_type": "execute_result"
    }
   ],
   "source": [
    "total = df['Area'].sum()\n",
    "df3 = df.loc[:, ['Region', 'Area']].groupby('Region', as_index=False).sum('Area')\n",
    "df3['Area Proportion(%)'] = df3['Area']/total*100\n",
    "df3.rename(columns = {'Area':'Total Area(km2)'}, inplace = True)\n",
    "df3"
   ]
  }
 ],
 "metadata": {
  "kernelspec": {
   "display_name": "Python 3.10.4 64-bit",
   "language": "python",
   "name": "python3"
  },
  "language_info": {
   "codemirror_mode": {
    "name": "ipython",
    "version": 3
   },
   "file_extension": ".py",
   "mimetype": "text/x-python",
   "name": "python",
   "nbconvert_exporter": "python",
   "pygments_lexer": "ipython3",
   "version": "3.10.4"
  },
  "orig_nbformat": 4,
  "vscode": {
   "interpreter": {
    "hash": "a42ccb73e7d9bfdf27e036f1d2b8b681e55fc0743cc5586bc2474d4a60f4b886"
   }
  }
 },
 "nbformat": 4,
 "nbformat_minor": 2
}
