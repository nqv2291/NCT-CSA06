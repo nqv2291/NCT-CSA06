{
  "nbformat": 4,
  "nbformat_minor": 0,
  "metadata": {
    "colab": {
      "provenance": [],
      "collapsed_sections": []
    },
    "kernelspec": {
      "name": "python3",
      "display_name": "Python 3"
    },
    "language_info": {
      "name": "python"
    }
  },
  "cells": [
    {
      "cell_type": "code",
      "source": [
        "col_list = ['Name', 'Division', 'Region', 'Area', 'Population']\n",
        "province_list = [\n",
        " ('Thành phố Hà Nội', 'Thành phố Trung ương', 'Đồng bằng sông Hồng', 3358.6, 8093.9),\n",
        " ('Tỉnh Hà Giang', 'Tỉnh', 'Đông Bắc Bộ', 7929.5, 858.1),\n",
        " ('Tỉnh Cao Bằng', 'Tỉnh', 'Đông Bắc Bộ', 6700.3, 530.9),\n",
        " ('Tỉnh Bắc Kạn', 'Tỉnh', 'Đông Bắc Bộ', 4860.0, 314.4),\n",
        " ('Tỉnh Tuyên Quang', 'Tỉnh', 'Đông Bắc Bộ', 5867.9, 786.3),\n",
        " ('Tỉnh Lào Cai', 'Tỉnh', 'Tây Bắc Bộ', 6364.0, 733.3),\n",
        " ('Tỉnh Điện Biên', 'Tỉnh', 'Tây Bắc Bộ', 9541.3, 601.7),\n",
        " ('Tỉnh Lai Châu', 'Tỉnh', 'Tây Bắc Bộ', 9068.8, 462.6),\n",
        " ('Tỉnh Sơn La', 'Tỉnh', 'Tây Bắc Bộ', 14123.5, 1252.7),\n",
        " ('Tỉnh Yên Bái', 'Tỉnh', 'Tây Bắc Bộ', 6887.5, 823.0),\n",
        " ('Tỉnh Hoà Bình', 'Tỉnh', 'Tây Bắc Bộ', 4590.6, 855.8),\n",
        " ('Tỉnh Thái Nguyên', 'Tỉnh', 'Đông Bắc Bộ', 3526.6, 1290.9),\n",
        " ('Tỉnh Lạng Sơn', 'Tỉnh', 'Đông Bắc Bộ', 8310.1, 782.8),\n",
        " ('Tỉnh Quảng Ninh', 'Tỉnh', 'Đông Bắc Bộ', 6178.2, 1324.8),\n",
        " ('Tỉnh Bắc Giang', 'Tỉnh', 'Đông Bắc Bộ', 3895.6, 1810.4),\n",
        "('Tỉnh Phú Thọ', 'Tỉnh', 'Đông Bắc Bộ', 3534.6, 1466.4),\n",
        "('Tỉnh Vĩnh Phúc', 'Tỉnh', 'Đồng bằng sông Hồng', 1235.9, 1154.8),\n",
        "('Tỉnh Bắc Ninh', 'Tỉnh', 'Đồng bằng sông Hồng', 822.7, 1378.6),\n",
        "('Tỉnh Hải Dương', 'Tỉnh', 'Đồng bằng sông Hồng', 1668.2, 1896.9),\n",
        "('Thành phố Hải Phòng', 'Thành phố Trung ương', 'Đồng bằng sông Hồng', 1561.8, 2033.3),\n",
        "('Tỉnh Hưng Yên', 'Tỉnh', 'Đồng bằng sông Hồng', 930.2, 1255.8),\n",
        "('Tỉnh Thái Bình', 'Tỉnh', 'Đồng bằng sông Hồng', 1586.4, 1862.2),\n",
        "('Tỉnh Hà Nam', 'Tỉnh', 'Đồng bằng sông Hồng', 861.9, 854.5),\n",
        "('Tỉnh Nam Định', 'Tỉnh', 'Đồng bằng sông Hồng', 1668.6, 1780.9),\n",
        "('Tỉnh Ninh Bình', 'Tỉnh', 'Đồng bằng sông Hồng', 1386.8, 984.5),\n",
        "('Tỉnh Thanh Hóa', 'Tỉnh', 'Bắc Trung Bộ', 11114.6, 3645.8),\n",
        "('Tỉnh Nghệ An', 'Tỉnh', 'Bắc Trung Bộ', 16481.4, 3337.2),\n",
        "('Tỉnh Hà Tĩnh', 'Tỉnh', 'Bắc Trung Bộ', 5990.7, 1290.3),\n",
        "('Tỉnh Quảng Bình', 'Tỉnh', 'Bắc Trung Bộ', 8000.0, 896.6),\n",
        "('Tỉnh Quảng Trị', 'Tỉnh', 'Bắc Trung Bộ', 4621.7, 633.4),\n",
        "('Tỉnh Thừa Thiên Huế', 'Tỉnh', 'Bắc Trung Bộ', 4902.4, 1129.5),\n",
        "('Thành phố Đà Nẵng', 'Thành phố Trung ương', 'Nam Trung Bộ', 1284.9, 1141.1),\n",
        "('Tỉnh Quảng Nam', 'Tỉnh', 'Nam Trung Bộ', 10574.7, 1497.5),\n",
        "('Tỉnh Quảng Ngãi', 'Tỉnh', 'Nam Trung Bộ', 5155.8, 1231.9),\n",
        "('Tỉnh Bình Định', 'Tỉnh', 'Nam Trung Bộ', 6066.2, 1487.8),\n",
        "('Tỉnh Phú Yên', 'Tỉnh', 'Nam Trung Bộ', 5023.4, 873.2),\n",
        "('Tỉnh Khánh Hòa', 'Tỉnh', 'Nam Trung Bộ', 5137.8, 1232.8),\n",
        "('Tỉnh Ninh Thuận', 'Tỉnh', 'Nam Trung Bộ', 3355.3, 591.0),\n",
        "('Tỉnh Bình Thuận', 'Tỉnh', 'Nam Trung Bộ', 7943.9, 1232.3),\n",
        "('Tỉnh Kon Tum', 'Tỉnh', 'Tây Nguyên', 9674.2, 543.4),\n",
        "('Tỉnh Gia Lai', 'Tỉnh', 'Tây Nguyên', 15511.0, 1520.2),\n",
        "('Tỉnh Đắk Lắk', 'Tỉnh', 'Tây Nguyên', 13030.5, 1872.6),\n",
        "('Tỉnh Đắk Nông', 'Tỉnh', 'Tây Nguyên', 6509.3, 625.8),\n",
        "('Tỉnh Lâm Đồng', 'Tỉnh', 'Tây Nguyên', 9783.3, 1299.3),\n",
        "('Tỉnh Bình Phước', 'Tỉnh', 'Đông Nam Bộ', 6876.8, 997.8),\n",
        "('Tỉnh Tây Ninh', 'Tỉnh', 'Đông Nam Bộ', 4041.3, 1171.7),\n",
        "('Tỉnh Bình Dương', 'Tỉnh', 'Đông Nam Bộ', 2694.6, 2456.3),\n",
        "('Tỉnh Đồng Nai', 'Tỉnh', 'Đông Nam Bộ', 5863.6, 3113.7),\n",
        "]\n",
        "('Tỉnh Bà Rịa - Vũng Tàu', 'Tỉnh', 'Đông Nam Bộ', 1981.0, 1152.2),\n",
        "('Thành phố Hồ Chí Minh', 'Thành phố Trung ương', 'Đông Nam Bộ', 2061.4, 9038.6),\n",
        "('Tỉnh Long An', 'Tỉnh', 'Đồng bằng sông Cửu Long', 4494.9, 1695.1),\n",
        "('Tỉnh Tiền Giang', 'Tỉnh', 'Đồng bằng sông Cửu Long', 2510.6, 1766.3),\n",
        "('Tỉnh Bến Tre', 'Tỉnh', 'Đồng bằng sông Cửu Long', 2394.8, 1289.1),\n",
        "('Tỉnh Trà Vinh', 'Tỉnh', 'Đồng bằng sông Cửu Long', 2358.3, 1009.3),\n",
        "('Tỉnh Vĩnh Long', 'Tỉnh', 'Đồng bằng sông Cửu Long', 1525.7, 1022.6),\n",
        "('Tỉnh Đồng Tháp', 'Tỉnh', 'Đồng bằng sông Cửu Long', 3383.8, 1598.8),\n",
        "('Tỉnh An Giang', 'Tỉnh', 'Đồng bằng sông Cửu Long', 3536.7, 1907.4),\n",
        "('Tỉnh Kiên Giang', 'Tỉnh', 'Đồng bằng sông Cửu Long', 6348.8, 1723.7),\n",
        "('Thành phố Cần Thơ', 'Thành phố Trung ương', 'Đồng bằng sông Cửu Long', 1439.0, 1236.0),\n",
        "('Tỉnh Hậu Giang', 'Tỉnh', 'Đồng bằng sông Cửu Long', 1621.7, 732.2),\n",
        "('Tỉnh Sóc Trăng', 'Tỉnh', 'Đồng bằng sông Cửu Long', 3311.9, 1199.5),\n",
        "('Tỉnh Bạc Liêu', 'Tỉnh', 'Đồng bằng sông Cửu Long', 2669.0, 908.2),\n",
        "('Tỉnh Cà Mau', 'Tỉnh', 'Đồng bằng sông Cửu Long', 5221.2, 1194.3)"
      ],
      "metadata": {
        "id": "CXaHkTTcxjgI"
      },
      "execution_count": null,
      "outputs": []
    },
    {
      "cell_type": "markdown",
      "source": [
        "BAI 1"
      ],
      "metadata": {
        "id": "rREJ3zCo0-o6"
      }
    },
    {
      "cell_type": "code",
      "execution_count": 12,
      "metadata": {
        "id": "HzYZTMMQw3sf"
      },
      "outputs": [],
      "source": [
        "# 1\n",
        "import pandas as pd\n",
        "df = pd.DataFrame(\n",
        "    province_list,\n",
        "    columns = col_list\n",
        ")"
      ]
    },
    {
      "cell_type": "code",
      "source": [
        "df"
      ],
      "metadata": {
        "id": "ZzocMrR1xtR-"
      },
      "execution_count": null,
      "outputs": []
    },
    {
      "cell_type": "markdown",
      "source": [
        "BAI 2"
      ],
      "metadata": {
        "id": "oMSIHGgH1DmL"
      }
    },
    {
      "cell_type": "code",
      "source": [
        "# 2\n",
        "df.info()"
      ],
      "metadata": {
        "id": "jsCuDnPQyAYE"
      },
      "execution_count": null,
      "outputs": []
    },
    {
      "cell_type": "markdown",
      "source": [
        "BAI 3"
      ],
      "metadata": {
        "id": "bU-6MRQl1kij"
      }
    },
    {
      "cell_type": "code",
      "source": [
        "df.to_excel('provinces.xls', sheet_name='provinces', index = False)\n",
        "\n",
        " "
      ],
      "metadata": {
        "id": "PGlC9dbAyZ6d"
      },
      "execution_count": null,
      "outputs": []
    },
    {
      "cell_type": "code",
      "source": [
        "province_df = pd.read_excel('provinces.xls', sheet_name='provinces')\n",
        "province_df.head()"
      ],
      "metadata": {
        "id": "BcaAXMOzzhoz"
      },
      "execution_count": null,
      "outputs": []
    }
  ]
}