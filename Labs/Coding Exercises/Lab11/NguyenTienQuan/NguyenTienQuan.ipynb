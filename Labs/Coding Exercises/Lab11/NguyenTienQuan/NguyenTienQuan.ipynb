{
 "cells": [
  {
   "cell_type": "code",
   "execution_count": 1,
   "metadata": {},
   "outputs": [],
   "source": [
    "import pandas as pd\n",
    "import os"
   ]
  },
  {
   "cell_type": "markdown",
   "metadata": {},
   "source": [
    "### Bai 1"
   ]
  },
  {
   "cell_type": "code",
   "execution_count": 35,
   "metadata": {},
   "outputs": [],
   "source": [
    "df = pd.read_excel('province.xlsx')"
   ]
  },
  {
   "cell_type": "code",
   "execution_count": 10,
   "metadata": {},
   "outputs": [
    {
     "data": {
      "text/html": [
       "<div>\n",
       "<style scoped>\n",
       "    .dataframe tbody tr th:only-of-type {\n",
       "        vertical-align: middle;\n",
       "    }\n",
       "\n",
       "    .dataframe tbody tr th {\n",
       "        vertical-align: top;\n",
       "    }\n",
       "\n",
       "    .dataframe thead th {\n",
       "        text-align: right;\n",
       "    }\n",
       "</style>\n",
       "<table border=\"1\" class=\"dataframe\">\n",
       "  <thead>\n",
       "    <tr style=\"text-align: right;\">\n",
       "      <th></th>\n",
       "      <th>Name</th>\n",
       "      <th>Division</th>\n",
       "      <th>Region</th>\n",
       "      <th>Area</th>\n",
       "      <th>Population</th>\n",
       "      <th>PopulationDensity</th>\n",
       "    </tr>\n",
       "  </thead>\n",
       "  <tbody>\n",
       "    <tr>\n",
       "      <th>49</th>\n",
       "      <td>Thành phố Hồ Chí Minh</td>\n",
       "      <td>Thành phố Trung ương</td>\n",
       "      <td>Đông Nam Bộ</td>\n",
       "      <td>2061.4</td>\n",
       "      <td>9038.6</td>\n",
       "      <td>4384.690016</td>\n",
       "    </tr>\n",
       "    <tr>\n",
       "      <th>39</th>\n",
       "      <td>Tỉnh Kon Tum</td>\n",
       "      <td>Tỉnh</td>\n",
       "      <td>Tây Nguyên</td>\n",
       "      <td>9674.2</td>\n",
       "      <td>543.4</td>\n",
       "      <td>56.170019</td>\n",
       "    </tr>\n",
       "  </tbody>\n",
       "</table>\n",
       "</div>"
      ],
      "text/plain": [
       "                     Name              Division       Region    Area  \\\n",
       "49  Thành phố Hồ Chí Minh  Thành phố Trung ương  Đông Nam Bộ  2061.4   \n",
       "39           Tỉnh Kon Tum                  Tỉnh   Tây Nguyên  9674.2   \n",
       "\n",
       "    Population  PopulationDensity  \n",
       "49      9038.6        4384.690016  \n",
       "39       543.4          56.170019  "
      ]
     },
     "execution_count": 10,
     "metadata": {},
     "output_type": "execute_result"
    }
   ],
   "source": [
    "df['PopulationDensity'] = df['Population']/df['Area']*1000\n",
    "\n",
    "Bai1 = df.sort_values(by = 'PopulationDensity')\n",
    "Bai1.iloc[[-1,1]]"
   ]
  },
  {
   "cell_type": "markdown",
   "metadata": {},
   "source": [
    "### Bai 2"
   ]
  },
  {
   "cell_type": "code",
   "execution_count": 39,
   "metadata": {},
   "outputs": [],
   "source": [
    "df2 = pd.read_excel('coastlines.xlsx')\n",
    "df['Coastline'] = 0\n",
    "\n",
    "for i in range(len(df2)):\n",
    "    df.loc[df['Name'] == df2.loc[i, 'Name'], 'Coastline'] = df2.loc[i, 'Coastline']\n",
    "\n",
    "df.to_excel('provinces_updated.xlsx', index = False)"
   ]
  },
  {
   "cell_type": "markdown",
   "metadata": {},
   "source": [
    "### Bai 3"
   ]
  },
  {
   "cell_type": "code",
   "execution_count": 65,
   "metadata": {},
   "outputs": [],
   "source": [
    "borders = pd.ExcelFile('borders.xlsx')\n",
    "df_b_chn = pd.read_excel(borders, 'CHN')\n",
    "df_b_lao = pd.read_excel(borders, 'LAO')\n",
    "df_b_khm = pd.read_excel(borders, 'KHM')\n",
    "\n",
    "Bai3 = pd.DataFrame(columns = ['Name', 'BorderWith', 'BorderCount'])\n",
    "\n",
    "for i in range(len(df_b_chn)):\n",
    "    Bai3 = Bai3.append({\n",
    "        'Name' : df_b_chn.loc[i, 'Tên tỉnh'],\n",
    "        'BorderWith' : 'China',\n",
    "        'BorderCount' : 1\n",
    "    }, ignore_index = True)\n",
    "\n",
    "for i in range(len(df_b_lao)):\n",
    "    if len(Bai3.loc[Bai3['Name'] == df_b_lao.loc[i, 'Tên tỉnh']]) == 0:\n",
    "        Bai3 = Bai3.append({\n",
    "            'Name' : df_b_lao.loc[i, 'Tên tỉnh'],\n",
    "            'BorderWith' : 'Laos',\n",
    "            'BorderCount' : 1\n",
    "        }, ignore_index = True)\n",
    "    else:\n",
    "        Bai3.loc[Bai3['Name'] == df_b_lao.loc[i, 'Tên tỉnh'], 'BorderWith'] += ', Laos'\n",
    "        Bai3.loc[Bai3['Name'] == df_b_lao.loc[i, 'Tên tỉnh'], 'BorderCount'] += 1\n",
    "\n",
    "for i in range(len(df_b_khm)):\n",
    "    if len(Bai3.loc[Bai3['Name'] == df_b_khm.loc[i, 'Tên tỉnh']]) == 0:\n",
    "        Bai3 = Bai3.append({\n",
    "            'Name' : df_b_khm.loc[i, 'Tên tỉnh'],\n",
    "            'BorderWith' : 'Cambodia',\n",
    "            'BorderCount' : 1\n",
    "        }, ignore_index = True)\n",
    "    else:\n",
    "        Bai3.loc[Bai3['Name'] == df_b_khm.loc[i, 'Tên tỉnh'], 'BorderWith'] += ', Cambodia'\n",
    "        Bai3.loc[Bai3['Name'] == df_b_khm.loc[i, 'Tên tỉnh'], 'BorderCount'] += 1\n",
    "\n",
    "Bai3.to_excel('borders_updated.xlsx', index = False)"
   ]
  }
 ],
 "metadata": {
  "kernelspec": {
   "display_name": "Python 3.7.4 32-bit",
   "language": "python",
   "name": "python3"
  },
  "language_info": {
   "codemirror_mode": {
    "name": "ipython",
    "version": 3
   },
   "file_extension": ".py",
   "mimetype": "text/x-python",
   "name": "python",
   "nbconvert_exporter": "python",
   "pygments_lexer": "ipython3",
   "version": "3.7.4"
  },
  "orig_nbformat": 4,
  "vscode": {
   "interpreter": {
    "hash": "37f1fd8221d73d5b56275924366f3659ff29851f7fd02a1e071f267d363a636a"
   }
  }
 },
 "nbformat": 4,
 "nbformat_minor": 2
}
